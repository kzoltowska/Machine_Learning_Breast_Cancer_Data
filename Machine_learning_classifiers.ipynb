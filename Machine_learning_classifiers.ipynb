{
 "cells": [
  {
   "cell_type": "code",
   "execution_count": 34,
   "metadata": {},
   "outputs": [],
   "source": [
    "#Importing libraries needed for the project\n",
    "import pandas as pd\n",
    "from imblearn.over_sampling import SMOTE"
   ]
  },
  {
   "cell_type": "code",
   "execution_count": 4,
   "metadata": {},
   "outputs": [],
   "source": [
    "data=pd.read_csv(\"/home/kasia/data_ML/ML_data.csv\")"
   ]
  },
  {
   "cell_type": "code",
   "execution_count": 16,
   "metadata": {},
   "outputs": [
    {
     "name": "stderr",
     "output_type": "stream",
     "text": [
      "/tmp/ipykernel_5452/2402691581.py:5: FutureWarning: Downcasting behavior in `replace` is deprecated and will be removed in a future version. To retain the old behavior, explicitly call `result.infer_objects(copy=False)`. To opt-in to the future behavior, set `pd.set_option('future.no_silent_downcasting', True)`\n",
      "  data[\"diagnosis_binary\"]=data[\"diagnosis_binary\"].replace(\"M\",1)\n"
     ]
    }
   ],
   "source": [
    "data.set_index(\"id\")\n",
    "\n",
    "data[\"diagnosis_binary\"]=data[\"diagnosis\"]\n",
    "data[\"diagnosis_binary\"]=data[\"diagnosis_binary\"].replace(\"B\",0)\n",
    "data[\"diagnosis_binary\"]=data[\"diagnosis_binary\"].replace(\"M\",1)\n",
    "data_ML=data.drop(\"diagnosis\", axis=1)"
   ]
  },
  {
   "cell_type": "code",
   "execution_count": 28,
   "metadata": {},
   "outputs": [],
   "source": [
    "X=data_ML.iloc[:,1:31]\n",
    "Y=data_ML[\"diagnosis_binary\"]"
   ]
  },
  {
   "cell_type": "code",
   "execution_count": 37,
   "metadata": {},
   "outputs": [],
   "source": [
    "Y.value_counts()\n",
    "#there is a class imbalance in the data - more classified as 0 than 1\n",
    "#to correct for class imbalance SMOTE is used\n",
    "smote=SMOTE(random_state=42, sampling_strategy=\"minority\")\n",
    "\n",
    "X_res, Y_res=smote.fit_resample(X,Y)"
   ]
  },
  {
   "cell_type": "code",
   "execution_count": 38,
   "metadata": {},
   "outputs": [
    {
     "data": {
      "text/plain": [
       "diagnosis_binary\n",
       "1    357\n",
       "0    357\n",
       "Name: count, dtype: int64"
      ]
     },
     "execution_count": 38,
     "metadata": {},
     "output_type": "execute_result"
    }
   ],
   "source": []
  }
 ],
 "metadata": {
  "kernelspec": {
   "display_name": "Python 3",
   "language": "python",
   "name": "python3"
  },
  "language_info": {
   "codemirror_mode": {
    "name": "ipython",
    "version": 3
   },
   "file_extension": ".py",
   "mimetype": "text/x-python",
   "name": "python",
   "nbconvert_exporter": "python",
   "pygments_lexer": "ipython3",
   "version": "3.10.12"
  }
 },
 "nbformat": 4,
 "nbformat_minor": 2
}
